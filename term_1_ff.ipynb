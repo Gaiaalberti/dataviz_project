{
 "cells": [
  {
   "cell_type": "markdown",
   "id": "1ea3fc9a",
   "metadata": {},
   "source": [
    "# TERM 1 (1979-1984)"
   ]
  },
  {
   "cell_type": "markdown",
   "id": "c7dfc269",
   "metadata": {},
   "source": [
    "### IMPORTING LIBRARIES "
   ]
  },
  {
   "cell_type": "code",
   "execution_count": 1,
   "id": "3d0a2335",
   "metadata": {},
   "outputs": [],
   "source": [
    "import requests\n",
    "from bs4 import BeautifulSoup\n",
    "import pandas as pd\n",
    "import json"
   ]
  },
  {
   "cell_type": "markdown",
   "id": "9268c22a",
   "metadata": {},
   "source": [
    "### IMPORTING INITIAL DATASET"
   ]
  },
  {
   "cell_type": "code",
   "execution_count": 2,
   "id": "5b9be47f",
   "metadata": {},
   "outputs": [],
   "source": [
    "#importing the json code \n",
    "file_name =\"1_term.json\"\n",
    "with open(file_name, 'r', encoding='utf-8') as f:\n",
    "    my_data = json.load(f)"
   ]
  },
  {
   "cell_type": "code",
   "execution_count": 3,
   "id": "fa649a9e",
   "metadata": {},
   "outputs": [],
   "source": [
    "#transforming the json file in a dataframe \n",
    "df = pd.json_normalize(my_data[\"meps\"][\"mep\"])"
   ]
  },
  {
   "cell_type": "markdown",
   "id": "f5e66809",
   "metadata": {},
   "source": [
    "### ADDING INFORMATION THROUGH SCRAPING "
   ]
  },
  {
   "cell_type": "code",
   "execution_count": 5,
   "id": "9355c334",
   "metadata": {},
   "outputs": [],
   "source": [
    "list_id = df[\"id\"].tolist()\n",
    "list_name = df[\"fullName\"].tolist()\n",
    "\n",
    "l=[]\n",
    "for x in list_name:\n",
    "    x = x.replace(\" \",\"\")\n",
    "    l.append(x)"
   ]
  },
  {
   "cell_type": "code",
   "execution_count": 8,
   "id": "b8e657e8",
   "metadata": {},
   "outputs": [],
   "source": [
    "#Scraping information about the country for each member \n",
    "country_id=[]\n",
    "for n, code in enumerate(list_id):\n",
    "    url = f\"https://www.europarl.europa.eu/meps/en/{code}/{l[n]}/history/1#detailedcardmep\"\n",
    "    page = requests.get(url)\n",
    "    soup = BeautifulSoup(page.text, \"html.parser\")\n",
    "    node=soup.find(class_= \"erpl_title-h3 mt-1 mb-1\")\n",
    "    if node != None:\n",
    "        country_id.append(node.text.strip())\n",
    "    else:\n",
    "        country_id.append(\"None\")"
   ]
  },
  {
   "cell_type": "code",
   "execution_count": 10,
   "id": "bd81f338",
   "metadata": {},
   "outputs": [],
   "source": [
    "#creating a column with the countries \n",
    "df[\"country\"]= country_id"
   ]
  },
  {
   "cell_type": "code",
   "execution_count": 11,
   "id": "247d6f67",
   "metadata": {},
   "outputs": [],
   "source": [
    "#Scraping information about eu political party and national party for each member \n",
    "main = []\n",
    "for n, code in enumerate(list_id):\n",
    "    url = f\"https://www.europarl.europa.eu/meps/en/{code}/{l[n]}/history/1#detailedcardmep\"\n",
    "    page = requests.get(url)\n",
    "    soup = BeautifulSoup(page.text, \"html.parser\")\n",
    "    node=soup.find(class_= \"erpl_meps-status-list\")\n",
    "    if node != None:\n",
    "        main.append(node.text.strip().split(\"\\n\\n\\n\"))\n",
    "    else:\n",
    "        main.append(\"None\")"
   ]
  },
  {
   "cell_type": "code",
   "execution_count": 12,
   "id": "b381930e",
   "metadata": {},
   "outputs": [],
   "source": [
    "#Add these information to a column in the df\n",
    "df[\"text\"]= main"
   ]
  },
  {
   "cell_type": "markdown",
   "id": "c1a38534",
   "metadata": {},
   "source": [
    "### GET NEEDED INFO FROM THE TEXT COLUMN "
   ]
  },
  {
   "cell_type": "code",
   "execution_count": 14,
   "id": "4104e316",
   "metadata": {},
   "outputs": [],
   "source": [
    "#Separating the eu political parties information and the national party information from the text column and removing useless info\n",
    "first = []\n",
    "second=[]\n",
    "for x in range(0,551):\n",
    "    if df[\"text\"][x] != \"None\":\n",
    "        lst = df[\"text\"][x][1].split(\"\\n\")\n",
    "        if len(lst) >1:\n",
    "            first.append(lst[0])\n",
    "            second.append(lst[1])\n",
    "        else:\n",
    "            first.append(lst[0])\n",
    "            second.append(\"None\")\n",
    "    else:\n",
    "        first.append(\"NaN\")\n",
    "        second.append(\"NaN\")"
   ]
  },
  {
   "cell_type": "code",
   "execution_count": 16,
   "id": "313bebbd",
   "metadata": {},
   "outputs": [],
   "source": [
    "#from the list cointaning EU political info, separating the date from the political party name \n",
    "eu_group_1 = []\n",
    "mandate_eu_1=[]\n",
    "for x in range(0,551):\n",
    "    lst = first[x].split(\":\")\n",
    "    mandate_eu_1.append(lst[0])\n",
    "    eu_group_1.append(lst[1])"
   ]
  },
  {
   "cell_type": "code",
   "execution_count": 17,
   "id": "620b9b0d",
   "metadata": {},
   "outputs": [],
   "source": [
    "#Creating and adding two separate columns\n",
    "df[\"mandate_eu_1\"] = mandate_eu_1 #column with \n",
    "df[\"eu_group_1\"] = eu_group_1 #column with EU political party affiliation"
   ]
  },
  {
   "cell_type": "code",
   "execution_count": 18,
   "id": "34520ff2",
   "metadata": {},
   "outputs": [],
   "source": [
    "#Some members have changed political party affiliation during the term, this information is taken from list through a split\n",
    "eu_group_2 = []\n",
    "mandate_eu_2=[]\n",
    "for x in range(0,551):\n",
    "    if second[x] != \"None\":\n",
    "        lst = second[x].split(\":\")\n",
    "        mandate_eu_2.append(lst[0])\n",
    "        eu_group_2.append(lst[1])\n",
    "    else:\n",
    "        mandate_eu_2.append(\"None\")\n",
    "        eu_group_2.append(\"None\")"
   ]
  },
  {
   "cell_type": "code",
   "execution_count": 19,
   "id": "d281799f",
   "metadata": {},
   "outputs": [],
   "source": [
    "#creating two new columns referring to the second political party affiliation (if there has been)\n",
    "df[\"mandate_eu_2\"] = mandate_eu_2\n",
    "df[\"eu_group_2\"] = eu_group_2"
   ]
  },
  {
   "cell_type": "code",
   "execution_count": 21,
   "id": "a1f52385",
   "metadata": {},
   "outputs": [],
   "source": [
    "#taking the national party affiliation from the column text\n",
    "nation_group = []\n",
    "mandate_nation=[]\n",
    "for x in range(0,551):\n",
    "  lst = df[\"text\"][x][3].split(\":\")\n",
    "  mandate_nation.append(lst[0])\n",
    "  nation_group.append(lst[1])"
   ]
  },
  {
   "cell_type": "code",
   "execution_count": 22,
   "id": "edcf9490",
   "metadata": {},
   "outputs": [],
   "source": [
    "#creating two columns regarding the national party affiliations\n",
    "df[\"mandate_nation\"] = mandate_nation\n",
    "df[\"nation_group\"] = nation_group"
   ]
  },
  {
   "cell_type": "markdown",
   "id": "43509d38",
   "metadata": {},
   "source": [
    "### CLEANING THE DATASET"
   ]
  },
  {
   "cell_type": "code",
   "execution_count": 23,
   "id": "d74dcba0",
   "metadata": {},
   "outputs": [],
   "source": [
    "#cleaning european political party group columns \n",
    "eu_group_1=[]\n",
    "for x in range(0,551):\n",
    "    lst = df[\"eu_group_1\"][x].strip().split(\"-\")\n",
    "    eu_group_1.append(lst[0])\n",
    "    \n",
    "eu_group_2=[]\n",
    "for x in range(0,551):\n",
    "    if df[\"eu_group_2\"][x] != \"None\":\n",
    "        lst = df[\"eu_group_2\"][x].strip().split(\"-\")\n",
    "        eu_group_2.append(lst[0])\n",
    "    else:\n",
    "        eu_group_2.append(\"None\")\n",
    "\n",
    "df[\"eu_group_1\"]= eu_group_1\n",
    "df[\"eu_group_2\"]= eu_group_2"
   ]
  },
  {
   "cell_type": "code",
   "execution_count": 25,
   "id": "4084c9b9",
   "metadata": {},
   "outputs": [],
   "source": [
    "#cleaning national political party column\n",
    "\n",
    "nation_group=[]\n",
    "for x in range(0,551):\n",
    "    lst = df[\"nation_group\"][x].strip().split(\"(\")\n",
    "    nation_group.append(lst[0])\n",
    "    \n",
    "for x in nation_group:\n",
    "    x.strip()\n",
    "\n",
    "df[\"nation_group\"] = nation_group"
   ]
  },
  {
   "cell_type": "code",
   "execution_count": null,
   "id": "0d6483b8",
   "metadata": {},
   "outputs": [],
   "source": [
    "#modyfing the string Non with the correct label\n",
    "df = df.replace(\"Non\", \"Non-attached Members\")"
   ]
  },
  {
   "cell_type": "code",
   "execution_count": 27,
   "id": "93add0d2",
   "metadata": {},
   "outputs": [],
   "source": [
    "#cleaning country column\n",
    "\n",
    "country1=[]\n",
    "for x in range(0,551):\n",
    "    lst = df[\"country\"][x].replace(\"\\n\",\"\").replace(\"\\t\",\"\").replace(\"\\r\",\"\").split(\"-\")\n",
    "    country1.append(lst[0].strip())\n",
    "df[\"country\"]= country1"
   ]
  },
  {
   "cell_type": "code",
   "execution_count": 28,
   "id": "1b8fed29",
   "metadata": {},
   "outputs": [],
   "source": [
    "#adding the column indicating the term\n",
    "df[\"term\"]= \"1979-1984\""
   ]
  },
  {
   "cell_type": "markdown",
   "id": "7ffa9e97",
   "metadata": {},
   "source": [
    "Some members have left before the end of the term and other member have entered in a second moment to substitute them"
   ]
  },
  {
   "cell_type": "code",
   "execution_count": 5,
   "id": "17f07b39",
   "metadata": {},
   "outputs": [],
   "source": [
    "#Creating a new column which indicates the month and year of the official start as a member of the European Parliament \n",
    "\n",
    "df1 = [] \n",
    "df1 = df[\"mandate_eu_1\"].tolist()\n",
    "\n",
    "start_period= []\n",
    "start_period_1 =[]\n",
    "end_period_group = []\n",
    "for x in df1:\n",
    "    x = x.split(\"/\")\n",
    "    start_period.append((x[0]).strip())\n",
    "    end_period_group.append(x[1].strip())\n",
    "    \n",
    "for x in start_period:\n",
    "    x = x.split(\"-\",1)[1]\n",
    "    start_period_1.append(x)\n",
    "\n",
    "df[\"start_period_1\"] = start_period_1"
   ]
  },
  {
   "cell_type": "code",
   "execution_count": 6,
   "id": "5bfb21ff",
   "metadata": {},
   "outputs": [
    {
     "name": "stderr",
     "output_type": "stream",
     "text": [
      "C:\\Users\\gaiaa\\AppData\\Local\\Temp/ipykernel_17440/2240104872.py:3: SettingWithCopyWarning: \n",
      "A value is trying to be set on a copy of a slice from a DataFrame\n",
      "\n",
      "See the caveats in the documentation: https://pandas.pydata.org/pandas-docs/stable/user_guide/indexing.html#returning-a-view-versus-a-copy\n",
      "  df[\"eu_group_2\"][x]=\"None\"\n",
      "C:\\Users\\gaiaa\\AppData\\Local\\Temp/ipykernel_17440/2240104872.py:4: SettingWithCopyWarning: \n",
      "A value is trying to be set on a copy of a slice from a DataFrame\n",
      "\n",
      "See the caveats in the documentation: https://pandas.pydata.org/pandas-docs/stable/user_guide/indexing.html#returning-a-view-versus-a-copy\n",
      "  df[\"mandate_eu_2\"][x] =\"None\"\n"
     ]
    }
   ],
   "source": [
    "#Cleaning the eu_group_2 column \n",
    "\n",
    "for x in range(0,551):\n",
    "    if df[\"eu_group_2\"][x] == df[\"eu_group_1\"][x]:\n",
    "        df[\"eu_group_2\"][x]=\"None\"\n",
    "        df[\"mandate_eu_2\"][x] =\"None\"\n",
    "    else:\n",
    "        continue "
   ]
  },
  {
   "cell_type": "code",
   "execution_count": 7,
   "id": "e61207b3",
   "metadata": {},
   "outputs": [],
   "source": [
    "#dropping the columns that are not usefull for the analysis\n",
    "df = df.drop([\"mandate_nation\", \"mandate_eu_1\", \"mandate_eu_2\",\"text\"], axis=1)"
   ]
  },
  {
   "cell_type": "markdown",
   "id": "8b921f9b",
   "metadata": {},
   "source": [
    "### ADDING THE GENDER COLUMN THROUGH API CALL"
   ]
  },
  {
   "cell_type": "code",
   "execution_count": null,
   "id": "3cbd6802",
   "metadata": {},
   "outputs": [],
   "source": [
    "#adding the gender column by using an API that identifies the gender from the name of the person \n",
    "\n",
    "def get_gender(name):\n",
    "    url = f\"https://api.genderize.io?name={name}\"\n",
    "    response = requests.get(url).json()\n",
    "    if response[\"gender\"]:\n",
    "        return response[\"gender\"]\n",
    "    else:\n",
    "        return None\n",
    "\n",
    "list = []\n",
    "for element in df.fullName:\n",
    "    gender = get_gender(element.split()[0])\n",
    "    list.append(gender)\n",
    "\n",
    "df[\"gender\"]=list"
   ]
  },
  {
   "cell_type": "code",
   "execution_count": 4,
   "id": "5b426a42",
   "metadata": {},
   "outputs": [],
   "source": [
    "#creating a new dataframes with the rows that have Nan values in the gender column\n",
    "df1 = df[df[\"gender\"].isnull()== True].copy()\n",
    "\n",
    "#adding the correct gender\n",
    "gender =[\"male\",\"female\",\"male\",\"male\", \"male\", \"male\", \"male\",\"male\",\"male\",\"female\",\"male\",\"male\",\"male\"]\n",
    "df1[\"gender\"] = gender"
   ]
  },
  {
   "cell_type": "code",
   "execution_count": 5,
   "id": "c78ec630",
   "metadata": {},
   "outputs": [],
   "source": [
    "#merge the initial dataframe with the dataframe just created\n",
    "df = df.dropna(axis=0)\n",
    "frames = [df, df1]\n",
    "df2 = pd.concat(frames).reset_index()\n",
    "df2= df2.drop([\"index\"],axis=1)"
   ]
  },
  {
   "cell_type": "markdown",
   "id": "cbd7c3ce",
   "metadata": {},
   "source": [
    "### SAVING THE FINAL DATAFRAME"
   ]
  },
  {
   "cell_type": "code",
   "execution_count": 6,
   "id": "fc8f8879",
   "metadata": {},
   "outputs": [],
   "source": [
    "df2.to_csv(\"term_1_final_gender.csv\",index=False)"
   ]
  }
 ],
 "metadata": {
  "kernelspec": {
   "display_name": "Python 3 (ipykernel)",
   "language": "python",
   "name": "python3"
  },
  "language_info": {
   "codemirror_mode": {
    "name": "ipython",
    "version": 3
   },
   "file_extension": ".py",
   "mimetype": "text/x-python",
   "name": "python",
   "nbconvert_exporter": "python",
   "pygments_lexer": "ipython3",
   "version": "3.9.7"
  }
 },
 "nbformat": 4,
 "nbformat_minor": 5
}
