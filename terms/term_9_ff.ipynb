{
 "cells": [
  {
   "cell_type": "markdown",
   "metadata": {},
   "source": [
    "# TERM 9 (2019-2024)"
   ]
  },
  {
   "cell_type": "markdown",
   "metadata": {},
   "source": [
    "This is the only term that had the dataset already made and ready to be download from the European Union website. For this reason, we haven't scraped the information as we did for all the previous terms."
   ]
  },
  {
   "cell_type": "markdown",
   "metadata": {},
   "source": [
    "### IMPORTING LIBRARIES"
   ]
  },
  {
   "cell_type": "code",
   "execution_count": 2,
   "metadata": {},
   "outputs": [],
   "source": [
    "import requests\n",
    "import pandas as pd"
   ]
  },
  {
   "cell_type": "markdown",
   "metadata": {},
   "source": [
    "### CLEANING DATASET"
   ]
  },
  {
   "cell_type": "code",
   "execution_count": 3,
   "metadata": {},
   "outputs": [],
   "source": [
    "#importing csv file\n",
    "df = pd.read_csv(\"9_term.csv\")"
   ]
  },
  {
   "cell_type": "code",
   "execution_count": 4,
   "metadata": {},
   "outputs": [],
   "source": [
    "#adding column term, period of mandate and eu_group_2 so that this dataset has the same columns of the previous ones\n",
    "df[\"term\"] = \"2019-2024\"\n",
    "df[\"start_period_1\"]=\"07-2019\"\n",
    "df[\"eu_group_2\"]=\"None\""
   ]
  },
  {
   "cell_type": "code",
   "execution_count": 5,
   "metadata": {},
   "outputs": [],
   "source": [
    "#renaming the columns \n",
    "df.rename(columns={\"politicalGroup\": \"eu_group_1\"}, inplace=True)\n",
    "df.rename(columns={\"nationalPoliticalGroup\": \"nation_group\" }, inplace=True)"
   ]
  },
  {
   "cell_type": "code",
   "execution_count": 6,
   "metadata": {},
   "outputs": [],
   "source": [
    "#removing the column\n",
    "df=df.drop(\"Unnamed: 0\", axis=1)"
   ]
  },
  {
   "cell_type": "markdown",
   "metadata": {},
   "source": [
    "### ADDING THE GENDER COLUMN THROUGH API CALL"
   ]
  },
  {
   "cell_type": "code",
   "execution_count": null,
   "metadata": {},
   "outputs": [],
   "source": [
    "import requests\n",
    "\n",
    "def get_gender(name):\n",
    "    url = f\"https://api.genderize.io?name={name}\"\n",
    "    response = requests.get(url).json()\n",
    "    if response[\"gender\"]:\n",
    "        return response[\"gender\"]\n",
    "    else:\n",
    "        return None\n",
    "\n",
    "list = []\n",
    "for element in df.fullName:\n",
    "    gender = get_gender(element.split()[0])\n",
    "    list.append(gender)\n",
    "\n",
    "df[\"gender\"]=list"
   ]
  },
  {
   "cell_type": "code",
   "execution_count": 17,
   "metadata": {},
   "outputs": [],
   "source": [
    "#creating a new dataframes with the rows that have Nan values in the gender column\n",
    "df1 = df[df[\"gender\"].isnull()== True].copy()"
   ]
  },
  {
   "cell_type": "code",
   "execution_count": 19,
   "metadata": {},
   "outputs": [],
   "source": [
    "#adding the correct gender\n",
    "gender = [\"female\",\"female\",\"male\",\"male\",\"female\",\"female\",\"female\",\"male\",\"male\",\"male\",\"male\",\"female\"]\n",
    "df1[\"gender\"] = gender"
   ]
  },
  {
   "cell_type": "code",
   "execution_count": 21,
   "metadata": {},
   "outputs": [],
   "source": [
    "#merge the initial dataframe with the dataframe just created\n",
    "df = df.dropna(axis=0)\n",
    "frames = [df, df1]\n",
    "df2 = pd.concat(frames).reset_index()\n",
    "df2= df2.drop([\"index\"],axis=1)"
   ]
  },
  {
   "cell_type": "markdown",
   "metadata": {},
   "source": [
    "### SAVING THE FINAL DATAFRAME"
   ]
  },
  {
   "cell_type": "code",
   "execution_count": 24,
   "metadata": {},
   "outputs": [],
   "source": [
    "#saving in a csv file\n",
    "df2.to_csv(\"term_9_final_gender_full.csv\", index=False)"
   ]
  }
 ],
 "metadata": {
  "kernelspec": {
   "display_name": "Python 3",
   "language": "python",
   "name": "python3"
  },
  "language_info": {
   "codemirror_mode": {
    "name": "ipython",
    "version": 3
   },
   "file_extension": ".py",
   "mimetype": "text/x-python",
   "name": "python",
   "nbconvert_exporter": "python",
   "pygments_lexer": "ipython3",
   "version": "3.8.5"
  }
 },
 "nbformat": 4,
 "nbformat_minor": 5
}
